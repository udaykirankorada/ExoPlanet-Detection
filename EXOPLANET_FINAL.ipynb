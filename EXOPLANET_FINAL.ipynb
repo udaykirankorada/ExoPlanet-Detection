{
  "cells": [
    {
      "cell_type": "code",
      "execution_count": 1,
      "metadata": {
        "id": "KadlTX7noqcW"
      },
      "outputs": [],
      "source": [
        "import pandas as pd\n",
        "from sklearn.ensemble import RandomForestClassifier\n",
        "from sklearn.metrics import accuracy_score\n",
        "from sklearn.model_selection import cross_val_score"
      ]
    },
    {
      "cell_type": "code",
      "execution_count": 2,
      "metadata": {
        "id": "54VusppBsclV"
      },
      "outputs": [],
      "source": [
        "train_df = pd.read_csv('exoTrain.csv')"
      ]
    },
    {
      "cell_type": "code",
      "execution_count": 3,
      "metadata": {
        "id": "evhYZeVvsxIG"
      },
      "outputs": [
        {
          "data": {
            "text/html": [
              "<div>\n",
              "<style scoped>\n",
              "    .dataframe tbody tr th:only-of-type {\n",
              "        vertical-align: middle;\n",
              "    }\n",
              "\n",
              "    .dataframe tbody tr th {\n",
              "        vertical-align: top;\n",
              "    }\n",
              "\n",
              "    .dataframe thead th {\n",
              "        text-align: right;\n",
              "    }\n",
              "</style>\n",
              "<table border=\"1\" class=\"dataframe\">\n",
              "  <thead>\n",
              "    <tr style=\"text-align: right;\">\n",
              "      <th></th>\n",
              "      <th>LABEL</th>\n",
              "      <th>FLUX.1</th>\n",
              "      <th>FLUX.2</th>\n",
              "      <th>FLUX.3</th>\n",
              "      <th>FLUX.4</th>\n",
              "      <th>FLUX.5</th>\n",
              "      <th>FLUX.6</th>\n",
              "      <th>FLUX.7</th>\n",
              "      <th>FLUX.8</th>\n",
              "      <th>FLUX.9</th>\n",
              "      <th>...</th>\n",
              "      <th>FLUX.3188</th>\n",
              "      <th>FLUX.3189</th>\n",
              "      <th>FLUX.3190</th>\n",
              "      <th>FLUX.3191</th>\n",
              "      <th>FLUX.3192</th>\n",
              "      <th>FLUX.3193</th>\n",
              "      <th>FLUX.3194</th>\n",
              "      <th>FLUX.3195</th>\n",
              "      <th>FLUX.3196</th>\n",
              "      <th>FLUX.3197</th>\n",
              "    </tr>\n",
              "  </thead>\n",
              "  <tbody>\n",
              "    <tr>\n",
              "      <th>0</th>\n",
              "      <td>2</td>\n",
              "      <td>93.85</td>\n",
              "      <td>83.81</td>\n",
              "      <td>20.10</td>\n",
              "      <td>-26.98</td>\n",
              "      <td>-39.56</td>\n",
              "      <td>-124.71</td>\n",
              "      <td>-135.18</td>\n",
              "      <td>-96.27</td>\n",
              "      <td>-79.89</td>\n",
              "      <td>...</td>\n",
              "      <td>-78.07</td>\n",
              "      <td>-102.15</td>\n",
              "      <td>-102.15</td>\n",
              "      <td>25.13</td>\n",
              "      <td>48.57</td>\n",
              "      <td>92.54</td>\n",
              "      <td>39.32</td>\n",
              "      <td>61.42</td>\n",
              "      <td>5.08</td>\n",
              "      <td>-39.54</td>\n",
              "    </tr>\n",
              "    <tr>\n",
              "      <th>1</th>\n",
              "      <td>2</td>\n",
              "      <td>-38.88</td>\n",
              "      <td>-33.83</td>\n",
              "      <td>-58.54</td>\n",
              "      <td>-40.09</td>\n",
              "      <td>-79.31</td>\n",
              "      <td>-72.81</td>\n",
              "      <td>-86.55</td>\n",
              "      <td>-85.33</td>\n",
              "      <td>-83.97</td>\n",
              "      <td>...</td>\n",
              "      <td>-3.28</td>\n",
              "      <td>-32.21</td>\n",
              "      <td>-32.21</td>\n",
              "      <td>-24.89</td>\n",
              "      <td>-4.86</td>\n",
              "      <td>0.76</td>\n",
              "      <td>-11.70</td>\n",
              "      <td>6.46</td>\n",
              "      <td>16.00</td>\n",
              "      <td>19.93</td>\n",
              "    </tr>\n",
              "    <tr>\n",
              "      <th>2</th>\n",
              "      <td>2</td>\n",
              "      <td>532.64</td>\n",
              "      <td>535.92</td>\n",
              "      <td>513.73</td>\n",
              "      <td>496.92</td>\n",
              "      <td>456.45</td>\n",
              "      <td>466.00</td>\n",
              "      <td>464.50</td>\n",
              "      <td>486.39</td>\n",
              "      <td>436.56</td>\n",
              "      <td>...</td>\n",
              "      <td>-71.69</td>\n",
              "      <td>13.31</td>\n",
              "      <td>13.31</td>\n",
              "      <td>-29.89</td>\n",
              "      <td>-20.88</td>\n",
              "      <td>5.06</td>\n",
              "      <td>-11.80</td>\n",
              "      <td>-28.91</td>\n",
              "      <td>-70.02</td>\n",
              "      <td>-96.67</td>\n",
              "    </tr>\n",
              "    <tr>\n",
              "      <th>3</th>\n",
              "      <td>2</td>\n",
              "      <td>326.52</td>\n",
              "      <td>347.39</td>\n",
              "      <td>302.35</td>\n",
              "      <td>298.13</td>\n",
              "      <td>317.74</td>\n",
              "      <td>312.70</td>\n",
              "      <td>322.33</td>\n",
              "      <td>311.31</td>\n",
              "      <td>312.42</td>\n",
              "      <td>...</td>\n",
              "      <td>5.71</td>\n",
              "      <td>-3.73</td>\n",
              "      <td>-3.73</td>\n",
              "      <td>30.05</td>\n",
              "      <td>20.03</td>\n",
              "      <td>-12.67</td>\n",
              "      <td>-8.77</td>\n",
              "      <td>-17.31</td>\n",
              "      <td>-17.35</td>\n",
              "      <td>13.98</td>\n",
              "    </tr>\n",
              "    <tr>\n",
              "      <th>4</th>\n",
              "      <td>2</td>\n",
              "      <td>-1107.21</td>\n",
              "      <td>-1112.59</td>\n",
              "      <td>-1118.95</td>\n",
              "      <td>-1095.10</td>\n",
              "      <td>-1057.55</td>\n",
              "      <td>-1034.48</td>\n",
              "      <td>-998.34</td>\n",
              "      <td>-1022.71</td>\n",
              "      <td>-989.57</td>\n",
              "      <td>...</td>\n",
              "      <td>-594.37</td>\n",
              "      <td>-401.66</td>\n",
              "      <td>-401.66</td>\n",
              "      <td>-357.24</td>\n",
              "      <td>-443.76</td>\n",
              "      <td>-438.54</td>\n",
              "      <td>-399.71</td>\n",
              "      <td>-384.65</td>\n",
              "      <td>-411.79</td>\n",
              "      <td>-510.54</td>\n",
              "    </tr>\n",
              "  </tbody>\n",
              "</table>\n",
              "<p>5 rows × 3198 columns</p>\n",
              "</div>"
            ],
            "text/plain": [
              "   LABEL   FLUX.1   FLUX.2   FLUX.3   FLUX.4   FLUX.5   FLUX.6  FLUX.7  \\\n",
              "0      2    93.85    83.81    20.10   -26.98   -39.56  -124.71 -135.18   \n",
              "1      2   -38.88   -33.83   -58.54   -40.09   -79.31   -72.81  -86.55   \n",
              "2      2   532.64   535.92   513.73   496.92   456.45   466.00  464.50   \n",
              "3      2   326.52   347.39   302.35   298.13   317.74   312.70  322.33   \n",
              "4      2 -1107.21 -1112.59 -1118.95 -1095.10 -1057.55 -1034.48 -998.34   \n",
              "\n",
              "    FLUX.8  FLUX.9  ...  FLUX.3188  FLUX.3189  FLUX.3190  FLUX.3191  \\\n",
              "0   -96.27  -79.89  ...     -78.07    -102.15    -102.15      25.13   \n",
              "1   -85.33  -83.97  ...      -3.28     -32.21     -32.21     -24.89   \n",
              "2   486.39  436.56  ...     -71.69      13.31      13.31     -29.89   \n",
              "3   311.31  312.42  ...       5.71      -3.73      -3.73      30.05   \n",
              "4 -1022.71 -989.57  ...    -594.37    -401.66    -401.66    -357.24   \n",
              "\n",
              "   FLUX.3192  FLUX.3193  FLUX.3194  FLUX.3195  FLUX.3196  FLUX.3197  \n",
              "0      48.57      92.54      39.32      61.42       5.08     -39.54  \n",
              "1      -4.86       0.76     -11.70       6.46      16.00      19.93  \n",
              "2     -20.88       5.06     -11.80     -28.91     -70.02     -96.67  \n",
              "3      20.03     -12.67      -8.77     -17.31     -17.35      13.98  \n",
              "4    -443.76    -438.54    -399.71    -384.65    -411.79    -510.54  \n",
              "\n",
              "[5 rows x 3198 columns]"
            ]
          },
          "execution_count": 3,
          "metadata": {},
          "output_type": "execute_result"
        }
      ],
      "source": [
        "train_df.head()"
      ]
    },
    {
      "cell_type": "code",
      "execution_count": 4,
      "metadata": {
        "id": "x8nkcrGIsyEV"
      },
      "outputs": [
        {
          "data": {
            "text/plain": [
              "0"
            ]
          },
          "execution_count": 4,
          "metadata": {},
          "output_type": "execute_result"
        }
      ],
      "source": [
        "train_df.isnull().sum().sum()"
      ]
    },
    {
      "cell_type": "code",
      "execution_count": 5,
      "metadata": {
        "id": "hF6YRhT8syUU"
      },
      "outputs": [
        {
          "data": {
            "text/plain": [
              "(5087, 3198)"
            ]
          },
          "execution_count": 5,
          "metadata": {},
          "output_type": "execute_result"
        }
      ],
      "source": [
        "train_df.shape"
      ]
    },
    {
      "cell_type": "code",
      "execution_count": 6,
      "metadata": {
        "id": "uXqwOeHXs8b5"
      },
      "outputs": [
        {
          "data": {
            "text/html": [
              "<div>\n",
              "<style scoped>\n",
              "    .dataframe tbody tr th:only-of-type {\n",
              "        vertical-align: middle;\n",
              "    }\n",
              "\n",
              "    .dataframe tbody tr th {\n",
              "        vertical-align: top;\n",
              "    }\n",
              "\n",
              "    .dataframe thead th {\n",
              "        text-align: right;\n",
              "    }\n",
              "</style>\n",
              "<table border=\"1\" class=\"dataframe\">\n",
              "  <thead>\n",
              "    <tr style=\"text-align: right;\">\n",
              "      <th></th>\n",
              "      <th>LABEL</th>\n",
              "      <th>FLUX.1</th>\n",
              "      <th>FLUX.2</th>\n",
              "      <th>FLUX.3</th>\n",
              "      <th>FLUX.4</th>\n",
              "      <th>FLUX.5</th>\n",
              "      <th>FLUX.6</th>\n",
              "      <th>FLUX.7</th>\n",
              "      <th>FLUX.8</th>\n",
              "      <th>FLUX.9</th>\n",
              "      <th>...</th>\n",
              "      <th>FLUX.3188</th>\n",
              "      <th>FLUX.3189</th>\n",
              "      <th>FLUX.3190</th>\n",
              "      <th>FLUX.3191</th>\n",
              "      <th>FLUX.3192</th>\n",
              "      <th>FLUX.3193</th>\n",
              "      <th>FLUX.3194</th>\n",
              "      <th>FLUX.3195</th>\n",
              "      <th>FLUX.3196</th>\n",
              "      <th>FLUX.3197</th>\n",
              "    </tr>\n",
              "  </thead>\n",
              "  <tbody>\n",
              "    <tr>\n",
              "      <th>count</th>\n",
              "      <td>5087.000000</td>\n",
              "      <td>5.087000e+03</td>\n",
              "      <td>5.087000e+03</td>\n",
              "      <td>5.087000e+03</td>\n",
              "      <td>5.087000e+03</td>\n",
              "      <td>5.087000e+03</td>\n",
              "      <td>5.087000e+03</td>\n",
              "      <td>5.087000e+03</td>\n",
              "      <td>5.087000e+03</td>\n",
              "      <td>5.087000e+03</td>\n",
              "      <td>...</td>\n",
              "      <td>5.087000e+03</td>\n",
              "      <td>5.087000e+03</td>\n",
              "      <td>5.087000e+03</td>\n",
              "      <td>5.087000e+03</td>\n",
              "      <td>5.087000e+03</td>\n",
              "      <td>5.087000e+03</td>\n",
              "      <td>5087.000000</td>\n",
              "      <td>5087.000000</td>\n",
              "      <td>5087.000000</td>\n",
              "      <td>5087.000000</td>\n",
              "    </tr>\n",
              "    <tr>\n",
              "      <th>mean</th>\n",
              "      <td>1.007273</td>\n",
              "      <td>1.445054e+02</td>\n",
              "      <td>1.285778e+02</td>\n",
              "      <td>1.471348e+02</td>\n",
              "      <td>1.561512e+02</td>\n",
              "      <td>1.561477e+02</td>\n",
              "      <td>1.469646e+02</td>\n",
              "      <td>1.168380e+02</td>\n",
              "      <td>1.144983e+02</td>\n",
              "      <td>1.228639e+02</td>\n",
              "      <td>...</td>\n",
              "      <td>3.485578e+02</td>\n",
              "      <td>4.956476e+02</td>\n",
              "      <td>6.711211e+02</td>\n",
              "      <td>7.468790e+02</td>\n",
              "      <td>6.937372e+02</td>\n",
              "      <td>6.553031e+02</td>\n",
              "      <td>-494.784966</td>\n",
              "      <td>-544.594264</td>\n",
              "      <td>-440.239100</td>\n",
              "      <td>-300.536399</td>\n",
              "    </tr>\n",
              "    <tr>\n",
              "      <th>std</th>\n",
              "      <td>0.084982</td>\n",
              "      <td>2.150669e+04</td>\n",
              "      <td>2.179717e+04</td>\n",
              "      <td>2.191309e+04</td>\n",
              "      <td>2.223366e+04</td>\n",
              "      <td>2.308448e+04</td>\n",
              "      <td>2.410567e+04</td>\n",
              "      <td>2.414109e+04</td>\n",
              "      <td>2.290691e+04</td>\n",
              "      <td>2.102681e+04</td>\n",
              "      <td>...</td>\n",
              "      <td>2.864786e+04</td>\n",
              "      <td>3.551876e+04</td>\n",
              "      <td>4.349963e+04</td>\n",
              "      <td>4.981375e+04</td>\n",
              "      <td>5.087103e+04</td>\n",
              "      <td>5.339979e+04</td>\n",
              "      <td>17844.469520</td>\n",
              "      <td>17722.339334</td>\n",
              "      <td>16273.406292</td>\n",
              "      <td>14459.795577</td>\n",
              "    </tr>\n",
              "    <tr>\n",
              "      <th>min</th>\n",
              "      <td>1.000000</td>\n",
              "      <td>-2.278563e+05</td>\n",
              "      <td>-3.154408e+05</td>\n",
              "      <td>-2.840018e+05</td>\n",
              "      <td>-2.340069e+05</td>\n",
              "      <td>-4.231956e+05</td>\n",
              "      <td>-5.975521e+05</td>\n",
              "      <td>-6.724046e+05</td>\n",
              "      <td>-5.790136e+05</td>\n",
              "      <td>-3.973882e+05</td>\n",
              "      <td>...</td>\n",
              "      <td>-3.240480e+05</td>\n",
              "      <td>-3.045540e+05</td>\n",
              "      <td>-2.933140e+05</td>\n",
              "      <td>-2.838420e+05</td>\n",
              "      <td>-3.288214e+05</td>\n",
              "      <td>-5.028894e+05</td>\n",
              "      <td>-775322.000000</td>\n",
              "      <td>-732006.000000</td>\n",
              "      <td>-700992.000000</td>\n",
              "      <td>-643170.000000</td>\n",
              "    </tr>\n",
              "    <tr>\n",
              "      <th>25%</th>\n",
              "      <td>1.000000</td>\n",
              "      <td>-4.234000e+01</td>\n",
              "      <td>-3.952000e+01</td>\n",
              "      <td>-3.850500e+01</td>\n",
              "      <td>-3.505000e+01</td>\n",
              "      <td>-3.195500e+01</td>\n",
              "      <td>-3.338000e+01</td>\n",
              "      <td>-2.813000e+01</td>\n",
              "      <td>-2.784000e+01</td>\n",
              "      <td>-2.683500e+01</td>\n",
              "      <td>...</td>\n",
              "      <td>-1.760000e+01</td>\n",
              "      <td>-1.948500e+01</td>\n",
              "      <td>-1.757000e+01</td>\n",
              "      <td>-2.076000e+01</td>\n",
              "      <td>-2.226000e+01</td>\n",
              "      <td>-2.440500e+01</td>\n",
              "      <td>-26.760000</td>\n",
              "      <td>-24.065000</td>\n",
              "      <td>-21.135000</td>\n",
              "      <td>-19.820000</td>\n",
              "    </tr>\n",
              "    <tr>\n",
              "      <th>50%</th>\n",
              "      <td>1.000000</td>\n",
              "      <td>-7.100000e-01</td>\n",
              "      <td>-8.900000e-01</td>\n",
              "      <td>-7.400000e-01</td>\n",
              "      <td>-4.000000e-01</td>\n",
              "      <td>-6.100000e-01</td>\n",
              "      <td>-1.030000e+00</td>\n",
              "      <td>-8.700000e-01</td>\n",
              "      <td>-6.600000e-01</td>\n",
              "      <td>-5.600000e-01</td>\n",
              "      <td>...</td>\n",
              "      <td>2.600000e+00</td>\n",
              "      <td>2.680000e+00</td>\n",
              "      <td>3.050000e+00</td>\n",
              "      <td>3.590000e+00</td>\n",
              "      <td>3.230000e+00</td>\n",
              "      <td>3.500000e+00</td>\n",
              "      <td>-0.680000</td>\n",
              "      <td>0.360000</td>\n",
              "      <td>0.900000</td>\n",
              "      <td>1.430000</td>\n",
              "    </tr>\n",
              "    <tr>\n",
              "      <th>75%</th>\n",
              "      <td>1.000000</td>\n",
              "      <td>4.825500e+01</td>\n",
              "      <td>4.428500e+01</td>\n",
              "      <td>4.232500e+01</td>\n",
              "      <td>3.976500e+01</td>\n",
              "      <td>3.975000e+01</td>\n",
              "      <td>3.514000e+01</td>\n",
              "      <td>3.406000e+01</td>\n",
              "      <td>3.170000e+01</td>\n",
              "      <td>3.045500e+01</td>\n",
              "      <td>...</td>\n",
              "      <td>2.211000e+01</td>\n",
              "      <td>2.235000e+01</td>\n",
              "      <td>2.639500e+01</td>\n",
              "      <td>2.909000e+01</td>\n",
              "      <td>2.780000e+01</td>\n",
              "      <td>3.085500e+01</td>\n",
              "      <td>18.175000</td>\n",
              "      <td>18.770000</td>\n",
              "      <td>19.465000</td>\n",
              "      <td>20.280000</td>\n",
              "    </tr>\n",
              "    <tr>\n",
              "      <th>max</th>\n",
              "      <td>2.000000</td>\n",
              "      <td>1.439240e+06</td>\n",
              "      <td>1.453319e+06</td>\n",
              "      <td>1.468429e+06</td>\n",
              "      <td>1.495750e+06</td>\n",
              "      <td>1.510937e+06</td>\n",
              "      <td>1.508152e+06</td>\n",
              "      <td>1.465743e+06</td>\n",
              "      <td>1.416827e+06</td>\n",
              "      <td>1.342888e+06</td>\n",
              "      <td>...</td>\n",
              "      <td>1.779338e+06</td>\n",
              "      <td>2.379227e+06</td>\n",
              "      <td>2.992070e+06</td>\n",
              "      <td>3.434973e+06</td>\n",
              "      <td>3.481220e+06</td>\n",
              "      <td>3.616292e+06</td>\n",
              "      <td>288607.500000</td>\n",
              "      <td>215972.000000</td>\n",
              "      <td>207590.000000</td>\n",
              "      <td>211302.000000</td>\n",
              "    </tr>\n",
              "  </tbody>\n",
              "</table>\n",
              "<p>8 rows × 3198 columns</p>\n",
              "</div>"
            ],
            "text/plain": [
              "             LABEL        FLUX.1        FLUX.2        FLUX.3        FLUX.4  \\\n",
              "count  5087.000000  5.087000e+03  5.087000e+03  5.087000e+03  5.087000e+03   \n",
              "mean      1.007273  1.445054e+02  1.285778e+02  1.471348e+02  1.561512e+02   \n",
              "std       0.084982  2.150669e+04  2.179717e+04  2.191309e+04  2.223366e+04   \n",
              "min       1.000000 -2.278563e+05 -3.154408e+05 -2.840018e+05 -2.340069e+05   \n",
              "25%       1.000000 -4.234000e+01 -3.952000e+01 -3.850500e+01 -3.505000e+01   \n",
              "50%       1.000000 -7.100000e-01 -8.900000e-01 -7.400000e-01 -4.000000e-01   \n",
              "75%       1.000000  4.825500e+01  4.428500e+01  4.232500e+01  3.976500e+01   \n",
              "max       2.000000  1.439240e+06  1.453319e+06  1.468429e+06  1.495750e+06   \n",
              "\n",
              "             FLUX.5        FLUX.6        FLUX.7        FLUX.8        FLUX.9  \\\n",
              "count  5.087000e+03  5.087000e+03  5.087000e+03  5.087000e+03  5.087000e+03   \n",
              "mean   1.561477e+02  1.469646e+02  1.168380e+02  1.144983e+02  1.228639e+02   \n",
              "std    2.308448e+04  2.410567e+04  2.414109e+04  2.290691e+04  2.102681e+04   \n",
              "min   -4.231956e+05 -5.975521e+05 -6.724046e+05 -5.790136e+05 -3.973882e+05   \n",
              "25%   -3.195500e+01 -3.338000e+01 -2.813000e+01 -2.784000e+01 -2.683500e+01   \n",
              "50%   -6.100000e-01 -1.030000e+00 -8.700000e-01 -6.600000e-01 -5.600000e-01   \n",
              "75%    3.975000e+01  3.514000e+01  3.406000e+01  3.170000e+01  3.045500e+01   \n",
              "max    1.510937e+06  1.508152e+06  1.465743e+06  1.416827e+06  1.342888e+06   \n",
              "\n",
              "       ...     FLUX.3188     FLUX.3189     FLUX.3190     FLUX.3191  \\\n",
              "count  ...  5.087000e+03  5.087000e+03  5.087000e+03  5.087000e+03   \n",
              "mean   ...  3.485578e+02  4.956476e+02  6.711211e+02  7.468790e+02   \n",
              "std    ...  2.864786e+04  3.551876e+04  4.349963e+04  4.981375e+04   \n",
              "min    ... -3.240480e+05 -3.045540e+05 -2.933140e+05 -2.838420e+05   \n",
              "25%    ... -1.760000e+01 -1.948500e+01 -1.757000e+01 -2.076000e+01   \n",
              "50%    ...  2.600000e+00  2.680000e+00  3.050000e+00  3.590000e+00   \n",
              "75%    ...  2.211000e+01  2.235000e+01  2.639500e+01  2.909000e+01   \n",
              "max    ...  1.779338e+06  2.379227e+06  2.992070e+06  3.434973e+06   \n",
              "\n",
              "          FLUX.3192     FLUX.3193      FLUX.3194      FLUX.3195  \\\n",
              "count  5.087000e+03  5.087000e+03    5087.000000    5087.000000   \n",
              "mean   6.937372e+02  6.553031e+02    -494.784966    -544.594264   \n",
              "std    5.087103e+04  5.339979e+04   17844.469520   17722.339334   \n",
              "min   -3.288214e+05 -5.028894e+05 -775322.000000 -732006.000000   \n",
              "25%   -2.226000e+01 -2.440500e+01     -26.760000     -24.065000   \n",
              "50%    3.230000e+00  3.500000e+00      -0.680000       0.360000   \n",
              "75%    2.780000e+01  3.085500e+01      18.175000      18.770000   \n",
              "max    3.481220e+06  3.616292e+06  288607.500000  215972.000000   \n",
              "\n",
              "           FLUX.3196      FLUX.3197  \n",
              "count    5087.000000    5087.000000  \n",
              "mean     -440.239100    -300.536399  \n",
              "std     16273.406292   14459.795577  \n",
              "min   -700992.000000 -643170.000000  \n",
              "25%       -21.135000     -19.820000  \n",
              "50%         0.900000       1.430000  \n",
              "75%        19.465000      20.280000  \n",
              "max    207590.000000  211302.000000  \n",
              "\n",
              "[8 rows x 3198 columns]"
            ]
          },
          "execution_count": 6,
          "metadata": {},
          "output_type": "execute_result"
        }
      ],
      "source": [
        "train_df.describe()"
      ]
    },
    {
      "cell_type": "markdown",
      "metadata": {
        "id": "ZJ4ZeNSNtDk9"
      },
      "source": [
        "**MODEL FOR TRAINING**"
      ]
    },
    {
      "cell_type": "markdown",
      "metadata": {
        "id": "DzVPCEaZtd-1"
      },
      "source": [
        " *TRAINING THE TRAIN DATA*"
      ]
    },
    {
      "cell_type": "markdown",
      "metadata": {
        "id": "sWoLUEz-vTHe"
      },
      "source": [
        "training the model and validating with cross validation"
      ]
    },
    {
      "cell_type": "code",
      "execution_count": 7,
      "metadata": {
        "id": "6LgcLnaKsg1k"
      },
      "outputs": [],
      "source": [
        "X = train_df.drop('LABEL', axis=1)\n",
        "y = train_df['LABEL']"
      ]
    },
    {
      "cell_type": "markdown",
      "metadata": {
        "id": "RTc-wA4_v230"
      },
      "source": [
        "the model is a random forest classifier"
      ]
    },
    {
      "cell_type": "code",
      "execution_count": 8,
      "metadata": {
        "id": "lw5e90tnviUV"
      },
      "outputs": [],
      "source": [
        "clf = RandomForestClassifier(n_estimators=100, max_depth=2,random_state=0)"
      ]
    },
    {
      "cell_type": "code",
      "execution_count": 9,
      "metadata": {
        "id": "EAgZEaYmwHcI"
      },
      "outputs": [
        {
          "data": {
            "text/html": [
              "<style>#sk-container-id-1 {color: black;background-color: white;}#sk-container-id-1 pre{padding: 0;}#sk-container-id-1 div.sk-toggleable {background-color: white;}#sk-container-id-1 label.sk-toggleable__label {cursor: pointer;display: block;width: 100%;margin-bottom: 0;padding: 0.3em;box-sizing: border-box;text-align: center;}#sk-container-id-1 label.sk-toggleable__label-arrow:before {content: \"▸\";float: left;margin-right: 0.25em;color: #696969;}#sk-container-id-1 label.sk-toggleable__label-arrow:hover:before {color: black;}#sk-container-id-1 div.sk-estimator:hover label.sk-toggleable__label-arrow:before {color: black;}#sk-container-id-1 div.sk-toggleable__content {max-height: 0;max-width: 0;overflow: hidden;text-align: left;background-color: #f0f8ff;}#sk-container-id-1 div.sk-toggleable__content pre {margin: 0.2em;color: black;border-radius: 0.25em;background-color: #f0f8ff;}#sk-container-id-1 input.sk-toggleable__control:checked~div.sk-toggleable__content {max-height: 200px;max-width: 100%;overflow: auto;}#sk-container-id-1 input.sk-toggleable__control:checked~label.sk-toggleable__label-arrow:before {content: \"▾\";}#sk-container-id-1 div.sk-estimator input.sk-toggleable__control:checked~label.sk-toggleable__label {background-color: #d4ebff;}#sk-container-id-1 div.sk-label input.sk-toggleable__control:checked~label.sk-toggleable__label {background-color: #d4ebff;}#sk-container-id-1 input.sk-hidden--visually {border: 0;clip: rect(1px 1px 1px 1px);clip: rect(1px, 1px, 1px, 1px);height: 1px;margin: -1px;overflow: hidden;padding: 0;position: absolute;width: 1px;}#sk-container-id-1 div.sk-estimator {font-family: monospace;background-color: #f0f8ff;border: 1px dotted black;border-radius: 0.25em;box-sizing: border-box;margin-bottom: 0.5em;}#sk-container-id-1 div.sk-estimator:hover {background-color: #d4ebff;}#sk-container-id-1 div.sk-parallel-item::after {content: \"\";width: 100%;border-bottom: 1px solid gray;flex-grow: 1;}#sk-container-id-1 div.sk-label:hover label.sk-toggleable__label {background-color: #d4ebff;}#sk-container-id-1 div.sk-serial::before {content: \"\";position: absolute;border-left: 1px solid gray;box-sizing: border-box;top: 0;bottom: 0;left: 50%;z-index: 0;}#sk-container-id-1 div.sk-serial {display: flex;flex-direction: column;align-items: center;background-color: white;padding-right: 0.2em;padding-left: 0.2em;position: relative;}#sk-container-id-1 div.sk-item {position: relative;z-index: 1;}#sk-container-id-1 div.sk-parallel {display: flex;align-items: stretch;justify-content: center;background-color: white;position: relative;}#sk-container-id-1 div.sk-item::before, #sk-container-id-1 div.sk-parallel-item::before {content: \"\";position: absolute;border-left: 1px solid gray;box-sizing: border-box;top: 0;bottom: 0;left: 50%;z-index: -1;}#sk-container-id-1 div.sk-parallel-item {display: flex;flex-direction: column;z-index: 1;position: relative;background-color: white;}#sk-container-id-1 div.sk-parallel-item:first-child::after {align-self: flex-end;width: 50%;}#sk-container-id-1 div.sk-parallel-item:last-child::after {align-self: flex-start;width: 50%;}#sk-container-id-1 div.sk-parallel-item:only-child::after {width: 0;}#sk-container-id-1 div.sk-dashed-wrapped {border: 1px dashed gray;margin: 0 0.4em 0.5em 0.4em;box-sizing: border-box;padding-bottom: 0.4em;background-color: white;}#sk-container-id-1 div.sk-label label {font-family: monospace;font-weight: bold;display: inline-block;line-height: 1.2em;}#sk-container-id-1 div.sk-label-container {text-align: center;}#sk-container-id-1 div.sk-container {/* jupyter's `normalize.less` sets `[hidden] { display: none; }` but bootstrap.min.css set `[hidden] { display: none !important; }` so we also need the `!important` here to be able to override the default hidden behavior on the sphinx rendered scikit-learn.org. See: https://github.com/scikit-learn/scikit-learn/issues/21755 */display: inline-block !important;position: relative;}#sk-container-id-1 div.sk-text-repr-fallback {display: none;}</style><div id=\"sk-container-id-1\" class=\"sk-top-container\"><div class=\"sk-text-repr-fallback\"><pre>RandomForestClassifier(max_depth=2, random_state=0)</pre><b>In a Jupyter environment, please rerun this cell to show the HTML representation or trust the notebook. <br />On GitHub, the HTML representation is unable to render, please try loading this page with nbviewer.org.</b></div><div class=\"sk-container\" hidden><div class=\"sk-item\"><div class=\"sk-estimator sk-toggleable\"><input class=\"sk-toggleable__control sk-hidden--visually\" id=\"sk-estimator-id-1\" type=\"checkbox\" checked><label for=\"sk-estimator-id-1\" class=\"sk-toggleable__label sk-toggleable__label-arrow\">RandomForestClassifier</label><div class=\"sk-toggleable__content\"><pre>RandomForestClassifier(max_depth=2, random_state=0)</pre></div></div></div></div></div>"
            ],
            "text/plain": [
              "RandomForestClassifier(max_depth=2, random_state=0)"
            ]
          },
          "execution_count": 9,
          "metadata": {},
          "output_type": "execute_result"
        }
      ],
      "source": [
        "clf.fit(X, y)"
      ]
    },
    {
      "cell_type": "code",
      "execution_count": 10,
      "metadata": {
        "id": "Z-nyIaWewLnE"
      },
      "outputs": [
        {
          "data": {
            "text/html": [
              "<style>#sk-container-id-2 {color: black;background-color: white;}#sk-container-id-2 pre{padding: 0;}#sk-container-id-2 div.sk-toggleable {background-color: white;}#sk-container-id-2 label.sk-toggleable__label {cursor: pointer;display: block;width: 100%;margin-bottom: 0;padding: 0.3em;box-sizing: border-box;text-align: center;}#sk-container-id-2 label.sk-toggleable__label-arrow:before {content: \"▸\";float: left;margin-right: 0.25em;color: #696969;}#sk-container-id-2 label.sk-toggleable__label-arrow:hover:before {color: black;}#sk-container-id-2 div.sk-estimator:hover label.sk-toggleable__label-arrow:before {color: black;}#sk-container-id-2 div.sk-toggleable__content {max-height: 0;max-width: 0;overflow: hidden;text-align: left;background-color: #f0f8ff;}#sk-container-id-2 div.sk-toggleable__content pre {margin: 0.2em;color: black;border-radius: 0.25em;background-color: #f0f8ff;}#sk-container-id-2 input.sk-toggleable__control:checked~div.sk-toggleable__content {max-height: 200px;max-width: 100%;overflow: auto;}#sk-container-id-2 input.sk-toggleable__control:checked~label.sk-toggleable__label-arrow:before {content: \"▾\";}#sk-container-id-2 div.sk-estimator input.sk-toggleable__control:checked~label.sk-toggleable__label {background-color: #d4ebff;}#sk-container-id-2 div.sk-label input.sk-toggleable__control:checked~label.sk-toggleable__label {background-color: #d4ebff;}#sk-container-id-2 input.sk-hidden--visually {border: 0;clip: rect(1px 1px 1px 1px);clip: rect(1px, 1px, 1px, 1px);height: 1px;margin: -1px;overflow: hidden;padding: 0;position: absolute;width: 1px;}#sk-container-id-2 div.sk-estimator {font-family: monospace;background-color: #f0f8ff;border: 1px dotted black;border-radius: 0.25em;box-sizing: border-box;margin-bottom: 0.5em;}#sk-container-id-2 div.sk-estimator:hover {background-color: #d4ebff;}#sk-container-id-2 div.sk-parallel-item::after {content: \"\";width: 100%;border-bottom: 1px solid gray;flex-grow: 1;}#sk-container-id-2 div.sk-label:hover label.sk-toggleable__label {background-color: #d4ebff;}#sk-container-id-2 div.sk-serial::before {content: \"\";position: absolute;border-left: 1px solid gray;box-sizing: border-box;top: 0;bottom: 0;left: 50%;z-index: 0;}#sk-container-id-2 div.sk-serial {display: flex;flex-direction: column;align-items: center;background-color: white;padding-right: 0.2em;padding-left: 0.2em;position: relative;}#sk-container-id-2 div.sk-item {position: relative;z-index: 1;}#sk-container-id-2 div.sk-parallel {display: flex;align-items: stretch;justify-content: center;background-color: white;position: relative;}#sk-container-id-2 div.sk-item::before, #sk-container-id-2 div.sk-parallel-item::before {content: \"\";position: absolute;border-left: 1px solid gray;box-sizing: border-box;top: 0;bottom: 0;left: 50%;z-index: -1;}#sk-container-id-2 div.sk-parallel-item {display: flex;flex-direction: column;z-index: 1;position: relative;background-color: white;}#sk-container-id-2 div.sk-parallel-item:first-child::after {align-self: flex-end;width: 50%;}#sk-container-id-2 div.sk-parallel-item:last-child::after {align-self: flex-start;width: 50%;}#sk-container-id-2 div.sk-parallel-item:only-child::after {width: 0;}#sk-container-id-2 div.sk-dashed-wrapped {border: 1px dashed gray;margin: 0 0.4em 0.5em 0.4em;box-sizing: border-box;padding-bottom: 0.4em;background-color: white;}#sk-container-id-2 div.sk-label label {font-family: monospace;font-weight: bold;display: inline-block;line-height: 1.2em;}#sk-container-id-2 div.sk-label-container {text-align: center;}#sk-container-id-2 div.sk-container {/* jupyter's `normalize.less` sets `[hidden] { display: none; }` but bootstrap.min.css set `[hidden] { display: none !important; }` so we also need the `!important` here to be able to override the default hidden behavior on the sphinx rendered scikit-learn.org. See: https://github.com/scikit-learn/scikit-learn/issues/21755 */display: inline-block !important;position: relative;}#sk-container-id-2 div.sk-text-repr-fallback {display: none;}</style><div id=\"sk-container-id-2\" class=\"sk-top-container\"><div class=\"sk-text-repr-fallback\"><pre>RandomForestClassifier(max_depth=2, random_state=0)</pre><b>In a Jupyter environment, please rerun this cell to show the HTML representation or trust the notebook. <br />On GitHub, the HTML representation is unable to render, please try loading this page with nbviewer.org.</b></div><div class=\"sk-container\" hidden><div class=\"sk-item\"><div class=\"sk-estimator sk-toggleable\"><input class=\"sk-toggleable__control sk-hidden--visually\" id=\"sk-estimator-id-2\" type=\"checkbox\" checked><label for=\"sk-estimator-id-2\" class=\"sk-toggleable__label sk-toggleable__label-arrow\">RandomForestClassifier</label><div class=\"sk-toggleable__content\"><pre>RandomForestClassifier(max_depth=2, random_state=0)</pre></div></div></div></div></div>"
            ],
            "text/plain": [
              "RandomForestClassifier(max_depth=2, random_state=0)"
            ]
          },
          "execution_count": 10,
          "metadata": {},
          "output_type": "execute_result"
        }
      ],
      "source": [
        "RandomForestClassifier(max_depth=2, random_state=0)"
      ]
    },
    {
      "cell_type": "code",
      "execution_count": 11,
      "metadata": {
        "id": "MxIW2Po9wc5d"
      },
      "outputs": [],
      "source": [
        "scores = cross_val_score(clf, X, y, cv=5)"
      ]
    },
    {
      "cell_type": "markdown",
      "metadata": {
        "id": "x_4TxMMZwtww"
      },
      "source": [
        "meansuring the accuracy"
      ]
    },
    {
      "cell_type": "code",
      "execution_count": 12,
      "metadata": {
        "id": "8mq-wI1kwgts"
      },
      "outputs": [
        {
          "name": "stdout",
          "output_type": "stream",
          "text": [
            "Accuracy: 99.27%\n"
          ]
        }
      ],
      "source": [
        "print(\"Accuracy: %0.2f%%\" % (scores.mean()*100))"
      ]
    },
    {
      "cell_type": "markdown",
      "metadata": {
        "id": "Xb08PyEaw3iF"
      },
      "source": [
        "3.2. Testing"
      ]
    },
    {
      "cell_type": "code",
      "execution_count": 13,
      "metadata": {
        "id": "FWY04tYWwyXu"
      },
      "outputs": [],
      "source": [
        "test_df = pd.read_csv('exoTest.csv')"
      ]
    },
    {
      "cell_type": "code",
      "execution_count": 14,
      "metadata": {
        "id": "71MyhE-NxAnP"
      },
      "outputs": [],
      "source": [
        "X_test = test_df.drop('LABEL', axis=1)\n",
        "y_test = test_df['LABEL']"
      ]
    },
    {
      "cell_type": "code",
      "execution_count": 15,
      "metadata": {
        "id": "JJx_NmJ5xEIE"
      },
      "outputs": [],
      "source": [
        "y_pred_test = clf.predict(X)"
      ]
    },
    {
      "cell_type": "code",
      "execution_count": 16,
      "metadata": {
        "id": "92r_CtX8xHId"
      },
      "outputs": [
        {
          "name": "stdout",
          "output_type": "stream",
          "text": [
            "Accuracy: 99.29%\n"
          ]
        }
      ],
      "source": [
        "accuracy = accuracy_score(y, y_pred_test)\n",
        "print(\"Accuracy: %.2f%%\" % (accuracy * 100.0))"
      ]
    }
  ],
  "metadata": {
    "colab": {
      "provenance": []
    },
    "kernelspec": {
      "display_name": "Python 3",
      "name": "python3"
    },
    "language_info": {
      "codemirror_mode": {
        "name": "ipython",
        "version": 3
      },
      "file_extension": ".py",
      "mimetype": "text/x-python",
      "name": "python",
      "nbconvert_exporter": "python",
      "pygments_lexer": "ipython3",
      "version": "3.11.2"
    }
  },
  "nbformat": 4,
  "nbformat_minor": 0
}
